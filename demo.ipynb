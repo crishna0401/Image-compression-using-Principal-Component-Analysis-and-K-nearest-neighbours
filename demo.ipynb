import numpy as np
import matplotlib.pyplot as plt
import plotly.express as px
from compress import compress_image

img = plt.imread('../ML algos from scratch/cameraman.tif')

model = compress_image(img,'PCA')
compressed_image,reconstructed_image = model.compress()

plt.figure(figsize = (10,10))
plt.subplot(1,3,1)
plt.imshow(img,cmap = 'gray')
plt.title('Original Image')
plt.subplot(1,3,2)
plt.imshow(reconstructed_image,cmap='gray')
plt.title('Reconstructed Image')
plt.subplot(1,3,3)
plt.imshow(compressed_image,cmap='gray')
plt.title('Compressed Image')
plt.show()
